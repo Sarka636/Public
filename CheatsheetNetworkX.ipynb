{
  "nbformat": 4,
  "nbformat_minor": 0,
  "metadata": {
    "colab": {
      "provenance": [],
      "authorship_tag": "ABX9TyNIp1OtSBhXP9TMxQIdwwsC",
      "include_colab_link": true
    },
    "kernelspec": {
      "name": "python3",
      "display_name": "Python 3"
    },
    "language_info": {
      "name": "python"
    }
  },
  "cells": [
    {
      "cell_type": "markdown",
      "metadata": {
        "id": "view-in-github",
        "colab_type": "text"
      },
      "source": [
        "<a href=\"https://colab.research.google.com/github/Sarka636/Public/blob/main/CheatsheetNetworkX.ipynb\" target=\"_parent\"><img src=\"https://colab.research.google.com/assets/colab-badge.svg\" alt=\"Open In Colab\"/></a>"
      ]
    },
    {
      "cell_type": "code",
      "execution_count": 1,
      "metadata": {
        "id": "QekvEDQfdztg"
      },
      "outputs": [],
      "source": [
        "import networkx as nx"
      ]
    },
    {
      "cell_type": "code",
      "source": [
        "G = nx.Graph() #create an empty graph\n",
        "G.add_node(\"Konvikt\")\n",
        "G.add_nodes_from([2, 3,(4,{\"color\":\"red\"})])\n",
        "print(G.nodes)"
      ],
      "metadata": {
        "colab": {
          "base_uri": "https://localhost:8080/"
        },
        "id": "SAsePXTYd5J4",
        "outputId": "a0adc54d-362a-4d7b-d28e-bfda51e83596"
      },
      "execution_count": 7,
      "outputs": [
        {
          "output_type": "stream",
          "name": "stdout",
          "text": [
            "['Konvikt', 2, 3, 4]\n"
          ]
        }
      ]
    },
    {
      "cell_type": "code",
      "source": [
        "G.add_edge('Konvikt',2,weight=5) #optional weight\n",
        "G.add_edges_from([(1, 2), (1, 3),(3,4),(4,'Konvikt')])\n",
        "#G.clear()\n",
        "print(G.edges)"
      ],
      "metadata": {
        "colab": {
          "base_uri": "https://localhost:8080/"
        },
        "id": "zi1T7s0rfQ2X",
        "outputId": "673a5a9a-ed75-481e-a5c3-2b88c5b1576b"
      },
      "execution_count": 35,
      "outputs": [
        {
          "output_type": "stream",
          "name": "stdout",
          "text": [
            "[('Konvikt', 2), ('Konvikt', 4), (2, 1), (1, 3), (3, 4)]\n"
          ]
        }
      ]
    },
    {
      "cell_type": "code",
      "source": [
        "nx.is_planar(G)"
      ],
      "metadata": {
        "colab": {
          "base_uri": "https://localhost:8080/"
        },
        "id": "up0Od8F7f3bm",
        "outputId": "c4c4357d-2f10-439c-aac1-3380be607bb9"
      },
      "execution_count": 36,
      "outputs": [
        {
          "output_type": "execute_result",
          "data": {
            "text/plain": [
              "True"
            ]
          },
          "metadata": {},
          "execution_count": 36
        }
      ]
    },
    {
      "cell_type": "code",
      "source": [
        "nx.is_eulerian(G) # nx.is_eulerian(G) / has an Eulerian circuit"
      ],
      "metadata": {
        "colab": {
          "base_uri": "https://localhost:8080/"
        },
        "id": "gN6ovt7Hggke",
        "outputId": "1ce3a458-c07e-46f3-e8c3-0b8578995cf8"
      },
      "execution_count": 37,
      "outputs": [
        {
          "output_type": "execute_result",
          "data": {
            "text/plain": [
              "True"
            ]
          },
          "metadata": {},
          "execution_count": 37
        }
      ]
    },
    {
      "cell_type": "code",
      "source": [
        "list(nx.eulerian_circuit(G))"
      ],
      "metadata": {
        "colab": {
          "base_uri": "https://localhost:8080/"
        },
        "id": "Z0tBs1qNhiVM",
        "outputId": "a51fd3e4-d107-4378-ff3d-336abd8644f6"
      },
      "execution_count": 41,
      "outputs": [
        {
          "output_type": "execute_result",
          "data": {
            "text/plain": [
              "[('Konvikt', 4), (4, 3), (3, 1), (1, 2), (2, 'Konvikt')]"
            ]
          },
          "metadata": {},
          "execution_count": 41
        }
      ]
    },
    {
      "cell_type": "markdown",
      "source": [
        "Visualize the network"
      ],
      "metadata": {
        "id": "OCfF70y7kno6"
      }
    },
    {
      "cell_type": "code",
      "source": [
        "import matplotlib.pyplot as plt #>pip install Matplotlib\n",
        "nx.draw(G,with_labels=True)"
      ],
      "metadata": {
        "id": "SKY_hN4KksJZ"
      },
      "execution_count": null,
      "outputs": []
    },
    {
      "cell_type": "code",
      "source": [
        "nx.draw(G,node_color ='lightgreen',width=5)\n",
        "plt.show()"
      ],
      "metadata": {
        "id": "ohlAF3qMnE-D"
      },
      "execution_count": null,
      "outputs": []
    },
    {
      "cell_type": "markdown",
      "source": [
        "[Polyhedral graphs](https://en.wikipedia.org/wiki/Polyhedral_graph) - Graphs of 3d convex polyhedra = 3-vertex-connected planar graphs\n"
      ],
      "metadata": {
        "id": "6bYu5YvZnqB3"
      }
    },
    {
      "cell_type": "code",
      "source": [
        "C=nx.cubical_graph()\n",
        "nx.draw(C,with_labels=True)"
      ],
      "metadata": {
        "id": "asFE3Xl_n_eA"
      },
      "execution_count": null,
      "outputs": []
    },
    {
      "cell_type": "code",
      "source": [
        "C.edges[1,2]['weight']=5\n",
        "C.edges[0,3]['weight']=5\n",
        "C.edges[1,7]['weight']=5\n",
        "print(C.edges)"
      ],
      "metadata": {
        "colab": {
          "base_uri": "https://localhost:8080/"
        },
        "id": "idnaWNEcocSH",
        "outputId": "aa3588b8-12bc-41b3-e2f2-410f9b0e8067"
      },
      "execution_count": 61,
      "outputs": [
        {
          "output_type": "stream",
          "name": "stdout",
          "text": [
            "[(0, 1), (0, 3), (0, 4), (1, 2), (1, 7), (2, 3), (2, 6), (3, 5), (4, 5), (4, 7), (5, 6), (6, 7)]\n"
          ]
        }
      ]
    },
    {
      "cell_type": "markdown",
      "source": [
        "The shortest path"
      ],
      "metadata": {
        "id": "2xsiDW54wTHz"
      }
    },
    {
      "cell_type": "code",
      "source": [
        "sp=nx.shortest_path(C, source = 0, target = 2,weight='weight')\n",
        "list(sp)"
      ],
      "metadata": {
        "colab": {
          "base_uri": "https://localhost:8080/"
        },
        "id": "SkZx7b4AqqpR",
        "outputId": "d02ac0b0-0925-4d5d-e2e6-401458eeb863"
      },
      "execution_count": 62,
      "outputs": [
        {
          "output_type": "execute_result",
          "data": {
            "text/plain": [
              "[0, 4, 5, 3, 2]"
            ]
          },
          "metadata": {},
          "execution_count": 62
        }
      ]
    },
    {
      "cell_type": "code",
      "source": [
        "# edge weight labels\n",
        "edge_labels = nx.get_edge_attributes(C, \"weight\")\n",
        "nx.draw_networkx_edge_labels(C,nx.spring_layout(C), edge_labels, font_size=14)\n",
        "nx.draw(C,with_labels=True)\n",
        "plt.show()"
      ],
      "metadata": {
        "id": "igAFgFdCrBLU"
      },
      "execution_count": null,
      "outputs": []
    },
    {
      "cell_type": "code",
      "source": [
        "seznam = [(sp[k],sp[k+1]) for k in range(len(sp)-1)]\n",
        "pos=nx.spring_layout(C)\n",
        "nx.draw(C,pos,with_labels=True)\n",
        "nx.draw_networkx_edges(C,pos,edgelist = seznam, edge_color=\"tab:cyan\",width = 3)\n",
        "plt.show()\n"
      ],
      "metadata": {
        "id": "erd2I97-uYAb"
      },
      "execution_count": null,
      "outputs": []
    }
  ]
}