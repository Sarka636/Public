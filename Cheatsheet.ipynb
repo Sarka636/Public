{
  "nbformat": 4,
  "nbformat_minor": 0,
  "metadata": {
    "colab": {
      "provenance": []
    },
    "kernelspec": {
      "name": "python3",
      "display_name": "Python 3"
    },
    "language_info": {
      "name": "python"
    }
  },
  "cells": [
    {
      "cell_type": "markdown",
      "source": [
        "Input, Loop, Condition"
      ],
      "metadata": {
        "id": "y_5rBd_bLXls"
      }
    },
    {
      "cell_type": "code",
      "execution_count": 4,
      "metadata": {
        "id": "oljHx95tqPUb",
        "colab": {
          "base_uri": "https://localhost:8080/"
        },
        "outputId": "828c2cd6-6de9-44cb-e062-1c7d68925cd5"
      },
      "outputs": [
        {
          "output_type": "stream",
          "name": "stdout",
          "text": [
            "x:-5\n",
            "x is negative\n"
          ]
        }
      ],
      "source": [
        "x=int(input('x:'))\n",
        "if x>0:\n",
        "  print(\"x is positive\")\n",
        "else:\n",
        "  print(\"x is negative\")"
      ]
    },
    {
      "cell_type": "code",
      "source": [
        "seq=range(1,15,2)\n",
        "print(*seq)\n",
        "seq[1]"
      ],
      "metadata": {
        "colab": {
          "base_uri": "https://localhost:8080/"
        },
        "id": "xLHse3ViMj8t",
        "outputId": "df59fef4-e4c8-429e-fb5b-7243af2a63a0"
      },
      "execution_count": 14,
      "outputs": [
        {
          "output_type": "stream",
          "name": "stdout",
          "text": [
            "1 3 5 7 9 11 13\n"
          ]
        },
        {
          "output_type": "execute_result",
          "data": {
            "text/plain": [
              "3"
            ]
          },
          "metadata": {},
          "execution_count": 14
        }
      ]
    },
    {
      "cell_type": "code",
      "source": [
        "list(range(7))"
      ],
      "metadata": {
        "colab": {
          "base_uri": "https://localhost:8080/"
        },
        "id": "WGLF6R23Nlxl",
        "outputId": "5f52558c-48d8-48bd-e61e-7e0ea119c6e5"
      },
      "execution_count": 15,
      "outputs": [
        {
          "output_type": "execute_result",
          "data": {
            "text/plain": [
              "[0, 1, 2, 3, 4, 5, 6]"
            ]
          },
          "metadata": {},
          "execution_count": 15
        }
      ]
    },
    {
      "cell_type": "code",
      "source": [
        "r=1\n",
        "for i in range(1,5):\n",
        "   r = r*i\n",
        "print(r)"
      ],
      "metadata": {
        "colab": {
          "base_uri": "https://localhost:8080/"
        },
        "id": "lQPY8BG3NolV",
        "outputId": "f9b04c9c-691a-478d-d8bc-8f1ac82b412b"
      },
      "execution_count": 17,
      "outputs": [
        {
          "output_type": "stream",
          "name": "stdout",
          "text": [
            "24\n"
          ]
        }
      ]
    },
    {
      "cell_type": "markdown",
      "source": [
        "Lists [w3schools](https://www.w3schools.com/python/python_lists.asp)"
      ],
      "metadata": {
        "id": "YXJkUuylOPCE"
      }
    },
    {
      "cell_type": "code",
      "source": [
        "vertices=['Prague', 'Brno','Olomouc','Liberec']\n",
        "len(vertices)"
      ],
      "metadata": {
        "colab": {
          "base_uri": "https://localhost:8080/"
        },
        "id": "Nx9RsuEBOxVE",
        "outputId": "8a616804-64db-4c24-d10b-a48a92d5abf6"
      },
      "execution_count": 27,
      "outputs": [
        {
          "output_type": "execute_result",
          "data": {
            "text/plain": [
              "4"
            ]
          },
          "metadata": {},
          "execution_count": 27
        }
      ]
    },
    {
      "cell_type": "code",
      "source": [
        "vertices[0] #access items"
      ],
      "metadata": {
        "colab": {
          "base_uri": "https://localhost:8080/",
          "height": 35
        },
        "id": "GcuMDn1gPF_U",
        "outputId": "cc08a20f-49f8-483e-d0d5-72ed3cee21c1"
      },
      "execution_count": 28,
      "outputs": [
        {
          "output_type": "execute_result",
          "data": {
            "text/plain": [
              "'Prague'"
            ],
            "application/vnd.google.colaboratory.intrinsic+json": {
              "type": "string"
            }
          },
          "metadata": {},
          "execution_count": 28
        }
      ]
    },
    {
      "cell_type": "code",
      "source": [
        "vertices.insert(1,'Kutná Hora')\n",
        "vertices.append(666)\n",
        "print(vertices)"
      ],
      "metadata": {
        "colab": {
          "base_uri": "https://localhost:8080/"
        },
        "id": "VqS_sBYEPWN1",
        "outputId": "c0402350-aa14-478d-e211-79ce99484249"
      },
      "execution_count": 29,
      "outputs": [
        {
          "output_type": "stream",
          "name": "stdout",
          "text": [
            "['Prague', 'Kutná Hora', 'Brno', 'Olomouc', 'Liberec', 666]\n"
          ]
        }
      ]
    },
    {
      "cell_type": "code",
      "source": [
        "smiley=[print(br, end=':-) ') for br in vertices]  # a short hand for loop\n",
        "type(smiley)"
      ],
      "metadata": {
        "colab": {
          "base_uri": "https://localhost:8080/"
        },
        "id": "Sm0saYKuQD2d",
        "outputId": "468bc77c-34db-4548-f3b7-3a7760d8ebca"
      },
      "execution_count": 37,
      "outputs": [
        {
          "output_type": "stream",
          "name": "stdout",
          "text": [
            "Prague:-) Kutná Hora:-) Brno:-) Olomouc:-) Liberec:-) 666:-) "
          ]
        },
        {
          "output_type": "execute_result",
          "data": {
            "text/plain": [
              "list"
            ]
          },
          "metadata": {},
          "execution_count": 37
        }
      ]
    },
    {
      "cell_type": "markdown",
      "source": [
        "Tuple, [dictionary](https://colab.research.google.com/drive/18sucf4DPnvzu4txzm9nFy2_ruv4mxyZh#scrollTo=Vm1ZYWRmR-bC&line=1&uniqifier=1)\n",
        "\n",
        "**List** is a collection which is ordered and changeable. Allows duplicate members.\n",
        "\n",
        "**Tuple** is a collection which is ordered and unchangeable. Allows duplicate members.\n",
        "\n",
        "**Set** is a collection which is unordered, unchangeable*, and unindexed. No duplicate members.\n",
        "\n",
        "**Dictionary** is a collection which is ordered and changeable. No duplicate members.\n"
      ],
      "metadata": {
        "id": "Vm1ZYWRmR-bC"
      }
    },
    {
      "cell_type": "code",
      "source": [
        "nodeAtr = dict(color='green',weight = 36, visible = False) # dict constructor\n",
        "print(nodeAtr)"
      ],
      "metadata": {
        "colab": {
          "base_uri": "https://localhost:8080/"
        },
        "id": "ZpH0NrXAQkhp",
        "outputId": "d71236e6-9cf6-453c-9e11-871a307c3e26"
      },
      "execution_count": 38,
      "outputs": [
        {
          "output_type": "stream",
          "name": "stdout",
          "text": [
            "{'color': 'green', 'weight': 36, 'visible': False}\n"
          ]
        }
      ]
    },
    {
      "cell_type": "code",
      "source": [
        "print(nodeAtr['color'])"
      ],
      "metadata": {
        "colab": {
          "base_uri": "https://localhost:8080/"
        },
        "id": "DJ8AlZlgScHy",
        "outputId": "9939f925-0d29-4327-b954-8581fde96628"
      },
      "execution_count": 40,
      "outputs": [
        {
          "output_type": "stream",
          "name": "stdout",
          "text": [
            "green\n"
          ]
        }
      ]
    },
    {
      "cell_type": "code",
      "source": [
        "tuple1 = (\"abc\", 34, True, 40, \"Olomouc\")\n",
        "type(tuple1)"
      ],
      "metadata": {
        "colab": {
          "base_uri": "https://localhost:8080/"
        },
        "id": "LctEv-B6UbDX",
        "outputId": "faea3ddf-5236-4af7-842b-8910a9185ab2"
      },
      "execution_count": 42,
      "outputs": [
        {
          "output_type": "execute_result",
          "data": {
            "text/plain": [
              "tuple"
            ]
          },
          "metadata": {},
          "execution_count": 42
        }
      ]
    }
  ]
}