{
  "nbformat": 4,
  "nbformat_minor": 0,
  "metadata": {
    "colab": {
      "provenance": [],
      "authorship_tag": "ABX9TyMIm2vnBURp9qg5nyk39VSr"
    },
    "kernelspec": {
      "name": "python3",
      "display_name": "Python 3"
    },
    "language_info": {
      "name": "python"
    }
  },
  "cells": [
    {
      "cell_type": "code",
      "execution_count": null,
      "metadata": {
        "id": "DqrAwsjKq1i1"
      },
      "outputs": [],
      "source": [
        "!pip install pulp\n",
        "#import pulp as pl # musíme přidat předponu pro všechny funkce\n",
        "from pulp import*"
      ]
    },
    {
      "cell_type": "markdown",
      "source": [
        "Sláma: Lineární programování, [Problém pekárny](https://slama.dev/linearni-programovani-v-pythonu/#probl%C3%A9m-pek%C3%A1rny)"
      ],
      "metadata": {
        "id": "TMX-eH2NxPf9"
      }
    },
    {
      "cell_type": "code",
      "source": [
        "model = LpProblem('DemoWiki',LpMaximize) # definujeme model"
      ],
      "metadata": {
        "id": "nZazCWDGyyvw"
      },
      "execution_count": 3,
      "outputs": []
    },
    {
      "cell_type": "code",
      "source": [
        "#x = LpVariable(\"x\", UpBound=100, LpInteger) # None\n",
        "x = LpVariable(\"x\", 0, 3, LpContinuous) # jmeno, min, max, LpInteger v LpContinuous\n",
        "y = LpVariable(\"y\", 0,2)\n",
        "# Ucelova funkce\n",
        "model += 1*x + 1*y"
      ],
      "metadata": {
        "id": "VvYdwsVbtoJG"
      },
      "execution_count": 7,
      "outputs": []
    },
    {
      "cell_type": "code",
      "source": [
        "# Omezujici podminky\n",
        "model += -x + y <= 1\n",
        "# Reseni\n",
        "model.solve()"
      ],
      "metadata": {
        "id": "sr5rUCUqu-7o"
      },
      "execution_count": null,
      "outputs": []
    },
    {
      "cell_type": "markdown",
      "source": [
        "Vypsání výsledku uloženého v model.variables() a model.objective"
      ],
      "metadata": {
        "id": "oY_8o1Qzz49z"
      }
    },
    {
      "cell_type": "code",
      "source": [
        "model.variables()"
      ],
      "metadata": {
        "colab": {
          "base_uri": "https://localhost:8080/"
        },
        "id": "AORuDm0t0GDY",
        "outputId": "71ca05e4-3c12-4f55-d6ad-784ddee28ad7"
      },
      "execution_count": 9,
      "outputs": [
        {
          "output_type": "execute_result",
          "data": {
            "text/plain": [
              "[x, y]"
            ]
          },
          "metadata": {},
          "execution_count": 9
        }
      ]
    },
    {
      "cell_type": "code",
      "source": [
        "print(x.varValue) # hodnota x\n",
        "print(y.varValue) # hodnota y\n",
        "print(value(model.objective)) # hodnota maxima účelové funkce"
      ],
      "metadata": {
        "colab": {
          "base_uri": "https://localhost:8080/"
        },
        "id": "p9sddSN81ELn",
        "outputId": "28e27e3c-0830-458b-b30d-8615e0548042"
      },
      "execution_count": 10,
      "outputs": [
        {
          "output_type": "stream",
          "name": "stdout",
          "text": [
            "3.0\n",
            "2.0\n",
            "5.0\n"
          ]
        }
      ]
    },
    {
      "cell_type": "code",
      "source": [
        "[print(v.name,\"=\",v.varValue) for v in model.variables()]\n",
        "print(\"Hodnota účelové funkce je\",value(model.objective))"
      ],
      "metadata": {
        "colab": {
          "base_uri": "https://localhost:8080/"
        },
        "id": "mRumDzwr0V_c",
        "outputId": "846afc57-8f7f-4e47-f8b0-f3b7f89b0a24"
      },
      "execution_count": null,
      "outputs": [
        {
          "output_type": "stream",
          "name": "stdout",
          "text": [
            "x = 2.9\n",
            "y = 1.8\n",
            "Hodnota účelové funkce je 12.299999999999999\n"
          ]
        }
      ]
    },
    {
      "cell_type": "markdown",
      "source": [
        "# Vilík na Burze"
      ],
      "metadata": {
        "id": "s_w0m8eT9DSm"
      }
    },
    {
      "cell_type": "code",
      "source": [
        "model = LpProblem('Vilik',LpMaximize) # definujeme model\n",
        "x = LpVariable(\"x\", 0,None,LpInteger) # jmeno, min, max, LpContinuous\n",
        "y = LpVariable(\"y\", 5,None,LpInteger)\n",
        "# Ucelova funkce\n",
        "model += 33*x + 88*y\n",
        "# Omezujici podminky\n",
        "model += x + y <= 20  # volanty\n",
        "model += 4*x + 6*y <= 82 # kola\n",
        "model += 4*x + 2*y <= 50 # sedadla\n",
        "# Reseni\n",
        "model.solve()\n",
        "[print(v.name,\"=\",v.varValue) for v in model.variables()]\n",
        "print(\"Hodnota účelové funkce je\",value(model.objective))"
      ],
      "metadata": {
        "colab": {
          "base_uri": "https://localhost:8080/"
        },
        "id": "sR_Z3OBa9Hfh",
        "outputId": "31fc163b-93f2-4c74-8602-2dcc1a38207d"
      },
      "execution_count": 17,
      "outputs": [
        {
          "output_type": "stream",
          "name": "stdout",
          "text": [
            "x = 1.0\n",
            "y = 13.0\n",
            "Hodnota účelové funkce je 1177.0\n"
          ]
        }
      ]
    },
    {
      "cell_type": "markdown",
      "source": [
        "# Bobův dietní problém"
      ],
      "metadata": {
        "id": "g_pWduteAaRs"
      }
    },
    {
      "cell_type": "markdown",
      "source": [],
      "metadata": {
        "id": "owsEmgJIAf0l"
      }
    },
    {
      "cell_type": "code",
      "source": [
        "model = LpProblem('Bob',LpMaximize) # definujeme model\n",
        "x = LpVariable(\"x\", 0,6,LpInteger) # pralinky\n",
        "y = LpVariable(\"y\",4, None,LpInteger) # susenky\n",
        "# Ucelova funkce\n",
        "model += x + y\n",
        "# Omezujici podminky\n",
        "model += x + y >= 8  # alespon 8 dobrutek denne\n",
        "model += 2*x + 1*y <= 10 # penezenka\n",
        "# Reseni\n",
        "model.solve()\n",
        "[print(v.name,\"=\",v.varValue) for v in model.variables()]\n",
        "print(\"Hodnota účelové funkce je\",value(model.objective))"
      ],
      "metadata": {
        "colab": {
          "base_uri": "https://localhost:8080/"
        },
        "id": "9e0KKeHLAoc1",
        "outputId": "267c3e10-fc9d-41dd-a9f6-fe2235d5f415"
      },
      "execution_count": 19,
      "outputs": [
        {
          "output_type": "stream",
          "name": "stdout",
          "text": [
            "x = 0.0\n",
            "y = 10.0\n",
            "Hodnota účelové funkce je 10.0\n"
          ]
        }
      ]
    }
  ]
}